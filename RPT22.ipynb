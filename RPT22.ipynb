{
 "cells": [
  {
   "cell_type": "code",
   "execution_count": 1,
   "id": "e7ee1638",
   "metadata": {},
   "outputs": [],
   "source": [
    "from selenium import webdriver\n",
    "from selenium.common.exceptions import TimeoutException\n",
    "from selenium.webdriver.support.ui import WebDriverWait\n",
    "from selenium.webdriver.support import expected_conditions as EC\n",
    "from selenium.webdriver.common.by import By\n",
    "from selenium.webdriver.common.keys import Keys\n",
    "from selenium.webdriver import ActionChains\n",
    "import time\n",
    "import openpyxl\n",
    "import re\n",
    "import tkinter as tk\n",
    "from tkinter import filedialog\n",
    "from tkinter import messagebox\n",
    "\n",
    "root = tk.Tk()\n",
    "root.wm_attributes('-topmost', 1)\n",
    "root.withdraw()\n",
    "file_path = filedialog.askopenfilename(parent=root, title=\"Selecione o Arquivo de origem\",\n",
    "                    filetypes=((\"excel files\", \"*.xlsx\"),(\"all files\", \"*.*\")))"
   ]
  },
  {
   "cell_type": "code",
   "execution_count": 2,
   "id": "6a38bd8c",
   "metadata": {
    "code_folding": [
     4
    ]
   },
   "outputs": [],
   "source": [
    "book = openpyxl.load_workbook(file_path)\n",
    "sheet = book['BASE']\n",
    "\n",
    "minha_lista=[]\n",
    "for rows in sheet.iter_rows(min_row=2):\n",
    "    minha_lista.append(rows[0].value)\n",
    "\n",
    "\n",
    "for i in range(len(minha_lista)):\n",
    "    if bool(re.search('[A-Za-z]', str(minha_lista[i]))) == True:\n",
    "        minha_lista[i] = str (minha_lista[i])\n",
    "    else:\n",
    "        if len(str(minha_lista[i])) == 11:\n",
    "            minha_lista[i] = str(minha_lista[i])\n",
    "        else:\n",
    "            while len(str(minha_lista[i])) < 11:\n",
    "                minha_lista[i] = '0' + str(minha_lista[i])"
   ]
  },
  {
   "cell_type": "code",
   "execution_count": 3,
   "id": "46379fa7",
   "metadata": {},
   "outputs": [
    {
     "ename": "TimeoutException",
     "evalue": "Message: timeout: Timed out receiving message from renderer: 299.677\n  (Session info: chrome=100.0.4896.60)\nStacktrace:\nBacktrace:\n\tOrdinal0 [0x00407413+2389011]\n\tOrdinal0 [0x00399F61+1941345]\n\tOrdinal0 [0x0028C658+837208]\n\tOrdinal0 [0x0027DB80+777088]\n\tOrdinal0 [0x0027C995+772501]\n\tOrdinal0 [0x0027CF98+774040]\n\tOrdinal0 [0x0028796F+817519]\n\tOrdinal0 [0x0029243B+861243]\n\tOrdinal0 [0x00294E10+871952]\n\tOrdinal0 [0x0027D266+774758]\n\tOrdinal0 [0x00292289+860809]\n\tOrdinal0 [0x002E464D+1197645]\n\tOrdinal0 [0x002D3F66+1130342]\n\tOrdinal0 [0x002AE546+976198]\n\tOrdinal0 [0x002AF456+980054]\n\tGetHandleVerifier [0x005B9632+1727522]\n\tGetHandleVerifier [0x0066BA4D+2457661]\n\tGetHandleVerifier [0x0049EB81+569713]\n\tGetHandleVerifier [0x0049DD76+566118]\n\tOrdinal0 [0x003A0B2B+1968939]\n\tOrdinal0 [0x003A5988+1989000]\n\tOrdinal0 [0x003A5A75+1989237]\n\tOrdinal0 [0x003AECB1+2026673]\n\tBaseThreadInitThunk [0x75B5FA29+25]\n\tRtlGetAppContainerNamedObjectPath [0x770A7A7E+286]\n\tRtlGetAppContainerNamedObjectPath [0x770A7A4E+238]\n",
     "output_type": "error",
     "traceback": [
      "\u001b[1;31m---------------------------------------------------------------------------\u001b[0m",
      "\u001b[1;31mTimeoutException\u001b[0m                          Traceback (most recent call last)",
      "\u001b[1;32m<ipython-input-3-eb9446375efa>\u001b[0m in \u001b[0;36m<module>\u001b[1;34m\u001b[0m\n\u001b[0;32m     10\u001b[0m     \u001b[1;32melse\u001b[0m\u001b[1;33m:\u001b[0m\u001b[1;33m\u001b[0m\u001b[1;33m\u001b[0m\u001b[0m\n\u001b[0;32m     11\u001b[0m         \u001b[0mdriver\u001b[0m \u001b[1;33m=\u001b[0m \u001b[0mwebdriver\u001b[0m\u001b[1;33m.\u001b[0m\u001b[0mChrome\u001b[0m\u001b[1;33m(\u001b[0m\u001b[1;33m)\u001b[0m\u001b[1;33m\u001b[0m\u001b[1;33m\u001b[0m\u001b[0m\n\u001b[1;32m---> 12\u001b[1;33m         \u001b[0mdriver\u001b[0m\u001b[1;33m.\u001b[0m\u001b[0mget\u001b[0m\u001b[1;33m(\u001b[0m\u001b[1;34m\"https://www.portaltransparencia.gov.br/pessoa-fisica/busca/lista?pagina=1&tamanhoPagina=10\"\u001b[0m\u001b[1;33m)\u001b[0m\u001b[1;33m\u001b[0m\u001b[1;33m\u001b[0m\u001b[0m\n\u001b[0m\u001b[0;32m     13\u001b[0m         \u001b[0mtimeout\u001b[0m \u001b[1;33m=\u001b[0m \u001b[1;36m7\u001b[0m\u001b[1;33m\u001b[0m\u001b[1;33m\u001b[0m\u001b[0m\n\u001b[0;32m     14\u001b[0m         \u001b[0mtime\u001b[0m\u001b[1;33m.\u001b[0m\u001b[0msleep\u001b[0m\u001b[1;33m(\u001b[0m\u001b[1;36m0.5\u001b[0m\u001b[1;33m)\u001b[0m\u001b[1;33m\u001b[0m\u001b[1;33m\u001b[0m\u001b[0m\n",
      "\u001b[1;32m~\\Anaconda3\\lib\\site-packages\\selenium\\webdriver\\remote\\webdriver.py\u001b[0m in \u001b[0;36mget\u001b[1;34m(self, url)\u001b[0m\n\u001b[0;32m    435\u001b[0m         \u001b[0mLoads\u001b[0m \u001b[0ma\u001b[0m \u001b[0mweb\u001b[0m \u001b[0mpage\u001b[0m \u001b[1;32min\u001b[0m \u001b[0mthe\u001b[0m \u001b[0mcurrent\u001b[0m \u001b[0mbrowser\u001b[0m \u001b[0msession\u001b[0m\u001b[1;33m.\u001b[0m\u001b[1;33m\u001b[0m\u001b[1;33m\u001b[0m\u001b[0m\n\u001b[0;32m    436\u001b[0m         \"\"\"\n\u001b[1;32m--> 437\u001b[1;33m         \u001b[0mself\u001b[0m\u001b[1;33m.\u001b[0m\u001b[0mexecute\u001b[0m\u001b[1;33m(\u001b[0m\u001b[0mCommand\u001b[0m\u001b[1;33m.\u001b[0m\u001b[0mGET\u001b[0m\u001b[1;33m,\u001b[0m \u001b[1;33m{\u001b[0m\u001b[1;34m'url'\u001b[0m\u001b[1;33m:\u001b[0m \u001b[0murl\u001b[0m\u001b[1;33m}\u001b[0m\u001b[1;33m)\u001b[0m\u001b[1;33m\u001b[0m\u001b[1;33m\u001b[0m\u001b[0m\n\u001b[0m\u001b[0;32m    438\u001b[0m \u001b[1;33m\u001b[0m\u001b[0m\n\u001b[0;32m    439\u001b[0m     \u001b[1;33m@\u001b[0m\u001b[0mproperty\u001b[0m\u001b[1;33m\u001b[0m\u001b[1;33m\u001b[0m\u001b[0m\n",
      "\u001b[1;32m~\\Anaconda3\\lib\\site-packages\\selenium\\webdriver\\remote\\webdriver.py\u001b[0m in \u001b[0;36mexecute\u001b[1;34m(self, driver_command, params)\u001b[0m\n\u001b[0;32m    423\u001b[0m         \u001b[0mresponse\u001b[0m \u001b[1;33m=\u001b[0m \u001b[0mself\u001b[0m\u001b[1;33m.\u001b[0m\u001b[0mcommand_executor\u001b[0m\u001b[1;33m.\u001b[0m\u001b[0mexecute\u001b[0m\u001b[1;33m(\u001b[0m\u001b[0mdriver_command\u001b[0m\u001b[1;33m,\u001b[0m \u001b[0mparams\u001b[0m\u001b[1;33m)\u001b[0m\u001b[1;33m\u001b[0m\u001b[1;33m\u001b[0m\u001b[0m\n\u001b[0;32m    424\u001b[0m         \u001b[1;32mif\u001b[0m \u001b[0mresponse\u001b[0m\u001b[1;33m:\u001b[0m\u001b[1;33m\u001b[0m\u001b[1;33m\u001b[0m\u001b[0m\n\u001b[1;32m--> 425\u001b[1;33m             \u001b[0mself\u001b[0m\u001b[1;33m.\u001b[0m\u001b[0merror_handler\u001b[0m\u001b[1;33m.\u001b[0m\u001b[0mcheck_response\u001b[0m\u001b[1;33m(\u001b[0m\u001b[0mresponse\u001b[0m\u001b[1;33m)\u001b[0m\u001b[1;33m\u001b[0m\u001b[1;33m\u001b[0m\u001b[0m\n\u001b[0m\u001b[0;32m    426\u001b[0m             response['value'] = self._unwrap_value(\n\u001b[0;32m    427\u001b[0m                 response.get('value', None))\n",
      "\u001b[1;32m~\\Anaconda3\\lib\\site-packages\\selenium\\webdriver\\remote\\errorhandler.py\u001b[0m in \u001b[0;36mcheck_response\u001b[1;34m(self, response)\u001b[0m\n\u001b[0;32m    245\u001b[0m                 \u001b[0malert_text\u001b[0m \u001b[1;33m=\u001b[0m \u001b[0mvalue\u001b[0m\u001b[1;33m[\u001b[0m\u001b[1;34m'alert'\u001b[0m\u001b[1;33m]\u001b[0m\u001b[1;33m.\u001b[0m\u001b[0mget\u001b[0m\u001b[1;33m(\u001b[0m\u001b[1;34m'text'\u001b[0m\u001b[1;33m)\u001b[0m\u001b[1;33m\u001b[0m\u001b[1;33m\u001b[0m\u001b[0m\n\u001b[0;32m    246\u001b[0m             \u001b[1;32mraise\u001b[0m \u001b[0mexception_class\u001b[0m\u001b[1;33m(\u001b[0m\u001b[0mmessage\u001b[0m\u001b[1;33m,\u001b[0m \u001b[0mscreen\u001b[0m\u001b[1;33m,\u001b[0m \u001b[0mstacktrace\u001b[0m\u001b[1;33m,\u001b[0m \u001b[0malert_text\u001b[0m\u001b[1;33m)\u001b[0m  \u001b[1;31m# type: ignore[call-arg]  # mypy is not smart enough here\u001b[0m\u001b[1;33m\u001b[0m\u001b[1;33m\u001b[0m\u001b[0m\n\u001b[1;32m--> 247\u001b[1;33m         \u001b[1;32mraise\u001b[0m \u001b[0mexception_class\u001b[0m\u001b[1;33m(\u001b[0m\u001b[0mmessage\u001b[0m\u001b[1;33m,\u001b[0m \u001b[0mscreen\u001b[0m\u001b[1;33m,\u001b[0m \u001b[0mstacktrace\u001b[0m\u001b[1;33m)\u001b[0m\u001b[1;33m\u001b[0m\u001b[1;33m\u001b[0m\u001b[0m\n\u001b[0m\u001b[0;32m    248\u001b[0m \u001b[1;33m\u001b[0m\u001b[0m\n\u001b[0;32m    249\u001b[0m     \u001b[1;32mdef\u001b[0m \u001b[0m_value_or_default\u001b[0m\u001b[1;33m(\u001b[0m\u001b[0mself\u001b[0m\u001b[1;33m,\u001b[0m \u001b[0mobj\u001b[0m\u001b[1;33m:\u001b[0m \u001b[0mMapping\u001b[0m\u001b[1;33m[\u001b[0m\u001b[0m_KT\u001b[0m\u001b[1;33m,\u001b[0m \u001b[0m_VT\u001b[0m\u001b[1;33m]\u001b[0m\u001b[1;33m,\u001b[0m \u001b[0mkey\u001b[0m\u001b[1;33m:\u001b[0m \u001b[0m_KT\u001b[0m\u001b[1;33m,\u001b[0m \u001b[0mdefault\u001b[0m\u001b[1;33m:\u001b[0m \u001b[0m_VT\u001b[0m\u001b[1;33m)\u001b[0m \u001b[1;33m->\u001b[0m \u001b[0m_VT\u001b[0m\u001b[1;33m:\u001b[0m\u001b[1;33m\u001b[0m\u001b[1;33m\u001b[0m\u001b[0m\n",
      "\u001b[1;31mTimeoutException\u001b[0m: Message: timeout: Timed out receiving message from renderer: 299.677\n  (Session info: chrome=100.0.4896.60)\nStacktrace:\nBacktrace:\n\tOrdinal0 [0x00407413+2389011]\n\tOrdinal0 [0x00399F61+1941345]\n\tOrdinal0 [0x0028C658+837208]\n\tOrdinal0 [0x0027DB80+777088]\n\tOrdinal0 [0x0027C995+772501]\n\tOrdinal0 [0x0027CF98+774040]\n\tOrdinal0 [0x0028796F+817519]\n\tOrdinal0 [0x0029243B+861243]\n\tOrdinal0 [0x00294E10+871952]\n\tOrdinal0 [0x0027D266+774758]\n\tOrdinal0 [0x00292289+860809]\n\tOrdinal0 [0x002E464D+1197645]\n\tOrdinal0 [0x002D3F66+1130342]\n\tOrdinal0 [0x002AE546+976198]\n\tOrdinal0 [0x002AF456+980054]\n\tGetHandleVerifier [0x005B9632+1727522]\n\tGetHandleVerifier [0x0066BA4D+2457661]\n\tGetHandleVerifier [0x0049EB81+569713]\n\tGetHandleVerifier [0x0049DD76+566118]\n\tOrdinal0 [0x003A0B2B+1968939]\n\tOrdinal0 [0x003A5988+1989000]\n\tOrdinal0 [0x003A5A75+1989237]\n\tOrdinal0 [0x003AECB1+2026673]\n\tBaseThreadInitThunk [0x75B5FA29+25]\n\tRtlGetAppContainerNamedObjectPath [0x770A7A7E+286]\n\tRtlGetAppContainerNamedObjectPath [0x770A7A4E+238]\n"
     ]
    }
   ],
   "source": [
    "driver = webdriver.Chrome()            \n",
    "row_number = 2\n",
    "lista_CPF = minha_lista\n",
    "\n",
    "for CPF in lista_CPF:\n",
    "    if bool(re.search('[A-Za-z]', CPF)) == True:\n",
    "        sheet.cell(row=row_number, column= 1).value = CPF\n",
    "        sheet.cell(row=row_number, column= 2).value = 'NÃO'\n",
    "        row_number += 1\n",
    "    else:\n",
    "        try:\n",
    "            driver = webdriver.Chrome() \n",
    "            driver.get(\"https://www.portaltransparencia.gov.br/pessoa-fisica/busca/lista?pagina=1&tamanhoPagina=10\")\n",
    "            timeout = 7\n",
    "            time.sleep(0.5)\n",
    "            element = driver.find_element(By.XPATH, '//*[@id=\"termo\"]')\n",
    "            element.send_keys(CPF)\n",
    "            driver.find_element(By.XPATH, '//*[@id=\"btnBuscar\"]/i').click()\n",
    "            try:\n",
    "                element_present = EC.presence_of_element_located((By.XPATH, '//*[@id=\"resultados\"]/li/p'))\n",
    "                WebDriverWait(driver, timeout).until(element_present)\n",
    "                auxilio = driver.find_element(By.XPATH, '//*[@id=\"resultados\"]/li/p').text\n",
    "            except:\n",
    "                auxilio = 'Não'\n",
    "            \n",
    "            if auxilio == 'Beneficiário de Programa Social':\n",
    "                sheet.cell(row=row_number, column= 1).value = CPF\n",
    "                sheet.cell(row=row_number, column= 2).value = 'SIM'\n",
    "            else:     \n",
    "                sheet.cell(row=row_number, column= 1).value = CPF\n",
    "                sheet.cell(row=row_number, column= 2).value = 'NÃO'\n",
    "            driver.close()\n",
    "            row_number += 1\n",
    "            time.sleep(2)\n",
    "\n",
    "        except:\n",
    "            book.save(file_path)\n",
    "            messagebox.showerror(title='Concluido', message='Procedimento Concluido com Erros')\n",
    "            \n",
    "book.save(file_path)\n",
    "messagebox.showinfo(title='Concluido', message='Procedimento Concluido')\n",
    "\n",
    "   "
   ]
  },
  {
   "cell_type": "code",
   "execution_count": null,
   "id": "41241a72",
   "metadata": {},
   "outputs": [],
   "source": []
  }
 ],
 "metadata": {
  "kernelspec": {
   "display_name": "Python 3",
   "language": "python",
   "name": "python3"
  },
  "language_info": {
   "codemirror_mode": {
    "name": "ipython",
    "version": 3
   },
   "file_extension": ".py",
   "mimetype": "text/x-python",
   "name": "python",
   "nbconvert_exporter": "python",
   "pygments_lexer": "ipython3",
   "version": "3.8.8"
  }
 },
 "nbformat": 4,
 "nbformat_minor": 5
}
